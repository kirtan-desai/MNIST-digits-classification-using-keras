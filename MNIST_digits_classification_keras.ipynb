{
  "nbformat": 4,
  "nbformat_minor": 0,
  "metadata": {
    "colab": {
      "name": "MNIST digits classification keras.ipynb",
      "provenance": []
    },
    "kernelspec": {
      "name": "python3",
      "display_name": "Python 3"
    },
    "accelerator": "GPU"
  },
  "cells": [
    {
      "cell_type": "code",
      "metadata": {
        "id": "jpg2aA2ncC6Z",
        "colab_type": "code",
        "colab": {
          "base_uri": "https://localhost:8080/",
          "height": 34
        },
        "outputId": "6d27754c-5995-4449-81c6-7ffdfa0667b8"
      },
      "source": [
        "import keras\n",
        "from keras.models import Sequential\n",
        "from keras.layers import Dense\n",
        "from keras.utils import to_categorical"
      ],
      "execution_count": 1,
      "outputs": [
        {
          "output_type": "stream",
          "text": [
            "Using TensorFlow backend.\n"
          ],
          "name": "stderr"
        }
      ]
    },
    {
      "cell_type": "code",
      "metadata": {
        "id": "_q8lqaSKcMVB",
        "colab_type": "code",
        "colab": {}
      },
      "source": [
        "from keras.layers.convolutional import Conv2D # to add convolutional layers\n",
        "from keras.layers.convolutional import MaxPooling2D # to add pooling layers\n",
        "from keras.layers import Flatten # to flatten data for fully connected layers"
      ],
      "execution_count": 0,
      "outputs": []
    },
    {
      "cell_type": "code",
      "metadata": {
        "id": "MZrES6vccOrT",
        "colab_type": "code",
        "colab": {
          "base_uri": "https://localhost:8080/",
          "height": 51
        },
        "outputId": "589c77fd-52aa-4e41-effa-bb5f6ccdc8bc"
      },
      "source": [
        "# import data\n",
        "from keras.datasets import mnist\n",
        "\n",
        "# load data\n",
        "(X_train, y_train), (X_test, y_test) = mnist.load_data()\n",
        "\n",
        "# reshape to be [samples][pixels][width][height]\n",
        "X_train = X_train.reshape(X_train.shape[0], 28, 28, 1).astype('float32')\n",
        "X_test = X_test.reshape(X_test.shape[0], 28, 28, 1).astype('float32')"
      ],
      "execution_count": 3,
      "outputs": [
        {
          "output_type": "stream",
          "text": [
            "Downloading data from https://s3.amazonaws.com/img-datasets/mnist.npz\n",
            "11493376/11490434 [==============================] - 0s 0us/step\n"
          ],
          "name": "stdout"
        }
      ]
    },
    {
      "cell_type": "code",
      "metadata": {
        "id": "R_jz3V8zcRaQ",
        "colab_type": "code",
        "colab": {}
      },
      "source": [
        "X_train = X_train / 255 # normalize training data\n",
        "X_test = X_test / 255 # normalize test data"
      ],
      "execution_count": 0,
      "outputs": []
    },
    {
      "cell_type": "code",
      "metadata": {
        "id": "LoQN1Bt_cTxi",
        "colab_type": "code",
        "colab": {}
      },
      "source": [
        "y_train = to_categorical(y_train)\n",
        "y_test = to_categorical(y_test)\n",
        "\n",
        "num_classes = y_test.shape[1] # number of categories"
      ],
      "execution_count": 0,
      "outputs": []
    },
    {
      "cell_type": "code",
      "metadata": {
        "id": "c4R6h7LKcYl4",
        "colab_type": "code",
        "colab": {}
      },
      "source": [
        "def convolutional_model():\n",
        "    \n",
        "    # create model\n",
        "    model = Sequential()\n",
        "    model.add(Conv2D(16, (5, 5), activation='relu', input_shape=(28, 28, 1)))\n",
        "    model.add(MaxPooling2D(pool_size=(2, 2), strides=(2, 2)))\n",
        "    \n",
        "    model.add(Conv2D(8, (2, 2), activation='relu'))\n",
        "    model.add(MaxPooling2D(pool_size=(2, 2), strides=(2, 2)))\n",
        "    \n",
        "    model.add(Flatten())\n",
        "    model.add(Dense(100, activation='relu'))\n",
        "    model.add(Dense(num_classes, activation='softmax'))\n",
        "    \n",
        "    # Compile model\n",
        "    model.compile(optimizer='adam', loss='categorical_crossentropy',  metrics=['accuracy'])\n",
        "    return model"
      ],
      "execution_count": 0,
      "outputs": []
    },
    {
      "cell_type": "code",
      "metadata": {
        "id": "4wtrW0wQcbd9",
        "colab_type": "code",
        "colab": {
          "base_uri": "https://localhost:8080/",
          "height": 561
        },
        "outputId": "049a38a7-1364-4858-9f79-378768ad46d6"
      },
      "source": [
        "# build the model\n",
        "model = convolutional_model()\n",
        "\n",
        "# fit the model\n",
        "model.fit(X_train, y_train, validation_data=(X_test, y_test), epochs=15, batch_size=200, verbose=2)"
      ],
      "execution_count": 11,
      "outputs": [
        {
          "output_type": "stream",
          "text": [
            "Train on 60000 samples, validate on 10000 samples\n",
            "Epoch 1/15\n",
            " - 3s - loss: 0.4615 - accuracy: 0.8686 - val_loss: 0.1553 - val_accuracy: 0.9521\n",
            "Epoch 2/15\n",
            " - 3s - loss: 0.1257 - accuracy: 0.9631 - val_loss: 0.0867 - val_accuracy: 0.9735\n",
            "Epoch 3/15\n",
            " - 3s - loss: 0.0894 - accuracy: 0.9729 - val_loss: 0.0683 - val_accuracy: 0.9782\n",
            "Epoch 4/15\n",
            " - 3s - loss: 0.0724 - accuracy: 0.9781 - val_loss: 0.0595 - val_accuracy: 0.9816\n",
            "Epoch 5/15\n",
            " - 3s - loss: 0.0603 - accuracy: 0.9817 - val_loss: 0.0497 - val_accuracy: 0.9840\n",
            "Epoch 6/15\n",
            " - 3s - loss: 0.0530 - accuracy: 0.9839 - val_loss: 0.0509 - val_accuracy: 0.9834\n",
            "Epoch 7/15\n",
            " - 3s - loss: 0.0473 - accuracy: 0.9858 - val_loss: 0.0432 - val_accuracy: 0.9854\n",
            "Epoch 8/15\n",
            " - 3s - loss: 0.0425 - accuracy: 0.9868 - val_loss: 0.0434 - val_accuracy: 0.9855\n",
            "Epoch 9/15\n",
            " - 3s - loss: 0.0390 - accuracy: 0.9881 - val_loss: 0.0476 - val_accuracy: 0.9851\n",
            "Epoch 10/15\n",
            " - 3s - loss: 0.0367 - accuracy: 0.9884 - val_loss: 0.0364 - val_accuracy: 0.9877\n",
            "Epoch 11/15\n",
            " - 3s - loss: 0.0340 - accuracy: 0.9898 - val_loss: 0.0361 - val_accuracy: 0.9874\n",
            "Epoch 12/15\n",
            " - 3s - loss: 0.0301 - accuracy: 0.9904 - val_loss: 0.0376 - val_accuracy: 0.9878\n",
            "Epoch 13/15\n",
            " - 3s - loss: 0.0290 - accuracy: 0.9906 - val_loss: 0.0387 - val_accuracy: 0.9870\n",
            "Epoch 14/15\n",
            " - 3s - loss: 0.0265 - accuracy: 0.9915 - val_loss: 0.0311 - val_accuracy: 0.9898\n",
            "Epoch 15/15\n",
            " - 3s - loss: 0.0249 - accuracy: 0.9923 - val_loss: 0.0393 - val_accuracy: 0.9873\n"
          ],
          "name": "stdout"
        },
        {
          "output_type": "execute_result",
          "data": {
            "text/plain": [
              "<keras.callbacks.callbacks.History at 0x7f7d00162320>"
            ]
          },
          "metadata": {
            "tags": []
          },
          "execution_count": 11
        }
      ]
    },
    {
      "cell_type": "code",
      "metadata": {
        "id": "4pjyuecBcfLC",
        "colab_type": "code",
        "colab": {
          "base_uri": "https://localhost:8080/",
          "height": 51
        },
        "outputId": "53d98282-18bb-43b5-af2b-4462843d8bc2"
      },
      "source": [
        "# evaluate the model\n",
        "scores = model.evaluate(X_test, y_test, verbose=0)\n",
        "print(\"Accuracy: {} \\n Error: {}\".format(scores[1], 100-scores[1]*100))"
      ],
      "execution_count": 12,
      "outputs": [
        {
          "output_type": "stream",
          "text": [
            "Accuracy: 0.9872999787330627 \n",
            " Error: 1.2700021266937256\n"
          ],
          "name": "stdout"
        }
      ]
    },
    {
      "cell_type": "code",
      "metadata": {
        "id": "WuI-7OD9d1DM",
        "colab_type": "code",
        "colab": {}
      },
      "source": [
        ""
      ],
      "execution_count": 0,
      "outputs": []
    }
  ]
}